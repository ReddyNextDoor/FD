{
 "cells": [
  {
   "cell_type": "code",
   "execution_count": 1,
   "id": "c73e4763",
   "metadata": {},
   "outputs": [
    {
     "name": "stdout",
     "output_type": "stream",
     "text": [
      "Collecting xgboost\n",
      "  Downloading xgboost-2.1.3-py3-none-manylinux2014_x86_64.whl.metadata (2.0 kB)\n",
      "Collecting imblearn\n",
      "  Downloading imblearn-0.0-py2.py3-none-any.whl.metadata (355 bytes)\n",
      "Requirement already satisfied: numpy in /home/ec2-user/anaconda3/envs/python3/lib/python3.10/site-packages (from xgboost) (1.26.4)\n",
      "Requirement already satisfied: scipy in /home/ec2-user/anaconda3/envs/python3/lib/python3.10/site-packages (from xgboost) (1.15.1)\n",
      "Collecting imbalanced-learn (from imblearn)\n",
      "  Downloading imbalanced_learn-0.13.0-py3-none-any.whl.metadata (8.8 kB)\n",
      "Requirement already satisfied: scikit-learn<2,>=1.3.2 in /home/ec2-user/anaconda3/envs/python3/lib/python3.10/site-packages (from imbalanced-learn->imblearn) (1.6.1)\n",
      "Collecting sklearn-compat<1,>=0.1 (from imbalanced-learn->imblearn)\n",
      "  Downloading sklearn_compat-0.1.3-py3-none-any.whl.metadata (18 kB)\n",
      "Requirement already satisfied: joblib<2,>=1.1.1 in /home/ec2-user/anaconda3/envs/python3/lib/python3.10/site-packages (from imbalanced-learn->imblearn) (1.4.2)\n",
      "Requirement already satisfied: threadpoolctl<4,>=2.0.0 in /home/ec2-user/anaconda3/envs/python3/lib/python3.10/site-packages (from imbalanced-learn->imblearn) (3.5.0)\n",
      "Downloading xgboost-2.1.3-py3-none-manylinux2014_x86_64.whl (4.5 MB)\n",
      "\u001b[2K   \u001b[90m━━━━━━━━━━━━━━━━━━━━━━━━━━━━━━━━━━━━━━━━\u001b[0m \u001b[32m4.5/4.5 MB\u001b[0m \u001b[31m28.7 MB/s\u001b[0m eta \u001b[36m0:00:00\u001b[0m\n",
      "\u001b[?25hDownloading imblearn-0.0-py2.py3-none-any.whl (1.9 kB)\n",
      "Downloading imbalanced_learn-0.13.0-py3-none-any.whl (238 kB)\n",
      "Downloading sklearn_compat-0.1.3-py3-none-any.whl (18 kB)\n",
      "Installing collected packages: xgboost, sklearn-compat, imbalanced-learn, imblearn\n",
      "Successfully installed imbalanced-learn-0.13.0 imblearn-0.0 sklearn-compat-0.1.3 xgboost-2.1.3\n"
     ]
    }
   ],
   "source": [
    "!pip install xgboost imblearn"
   ]
  },
  {
   "cell_type": "code",
   "execution_count": 2,
   "id": "31323e67",
   "metadata": {},
   "outputs": [
    {
     "name": "stderr",
     "output_type": "stream",
     "text": [
      "/home/ec2-user/anaconda3/envs/python3/lib/python3.10/site-packages/xgboost/core.py:265: FutureWarning: Your system has an old version of glibc (< 2.28). We will stop supporting Linux distros with glibc older than 2.28 after **May 31, 2025**. Please upgrade to a recent Linux distro (with glibc 2.28+) to use future versions of XGBoost.\n",
      "Note: You have installed the 'manylinux2014' variant of XGBoost. Certain features such as GPU algorithms or federated learning are not available. To use these features, please upgrade to a recent Linux distro with glibc 2.28+, and install the 'manylinux_2_28' variant.\n",
      "  warnings.warn(\n",
      "Matplotlib is building the font cache; this may take a moment.\n"
     ]
    }
   ],
   "source": [
    "import pandas as pd\n",
    "import numpy as np\n",
    "import boto3\n",
    "from io import StringIO\n",
    "from xgboost import XGBClassifier\n",
    "from sklearn.metrics import roc_auc_score, f1_score, precision_score, recall_score, precision_recall_curve\n",
    "from sklearn.model_selection import KFold\n",
    "from imblearn.over_sampling import SMOTE\n",
    "from sklearn.preprocessing import StandardScaler\n",
    "import matplotlib.pyplot as plt\n",
    "\n",
    "# Load the dataset from S3\n",
    "s3 = boto3.resource('s3')\n",
    "bucket = 'nimbleai-whizlabs'\n",
    "object_key = 'fraudTrain.csv'\n",
    "\n",
    "csv_obj = s3.Object(bucket, object_key)\n",
    "csv_string = csv_obj.get()['Body'].read().decode('utf-8')\n",
    "fraud_df = pd.read_csv(StringIO(csv_string))"
   ]
  },
  {
   "cell_type": "code",
   "execution_count": 3,
   "id": "db038ade",
   "metadata": {},
   "outputs": [],
   "source": [
    "# Step 1: Convert date columns\n",
    "fraud_df['trans_date_trans_time'] = pd.to_datetime(fraud_df['trans_date_trans_time'])\n",
    "fraud_df['dob'] = pd.to_datetime(fraud_df['dob'])\n",
    "\n",
    "# Step 2: Feature engineering\n",
    "fraud_df['trans_hour'] = fraud_df['trans_date_trans_time'].dt.hour\n",
    "fraud_df['trans_day_of_week'] = fraud_df['trans_date_trans_time'].dt.dayofweek + 1\n",
    "fraud_df['age'] = ((fraud_df['trans_date_trans_time'] - fraud_df['dob']).dt.days / 365.25).astype(int)\n",
    "\n",
    "# Step 3: Create age categories\n",
    "custom_bins = [13, 19, 32, 42, 50, 62, float('inf')]\n",
    "custom_labels = ['Teenagers', 'Young Adults', 'Adults', 'Middle-aged', 'Seniors', 'Retired']\n",
    "fraud_df['age_category'] = pd.cut(fraud_df['age'], bins=custom_bins, labels=custom_labels, right=False)\n",
    "\n",
    "# Step 4: Calculate distance to merchant\n",
    "fraud_df['distance_to_merchant'] = np.sqrt(\n",
    "    (fraud_df['lat'] - fraud_df['merch_lat'])**2 + (fraud_df['long'] - fraud_df['merch_long'])**2\n",
    ")\n",
    "\n",
    "# Step 5: Transactions per capita (proxy for transaction density in the city)\n",
    "fraud_df['transactions_per_capita'] = fraud_df.groupby('city_pop')['trans_num'].transform('count') / fraud_df['city_pop']\n",
    "\n",
    "# Step 6: One-hot encode categorical variables\n",
    "categorical_columns = ['category', 'gender', 'age_category']\n",
    "fraud_df = pd.get_dummies(fraud_df, columns=categorical_columns, drop_first=True)"
   ]
  },
  {
   "cell_type": "code",
   "execution_count": 4,
   "id": "b8ee29e1",
   "metadata": {},
   "outputs": [
    {
     "data": {
      "text/html": [
       "<div>\n",
       "<style scoped>\n",
       "    .dataframe tbody tr th:only-of-type {\n",
       "        vertical-align: middle;\n",
       "    }\n",
       "\n",
       "    .dataframe tbody tr th {\n",
       "        vertical-align: top;\n",
       "    }\n",
       "\n",
       "    .dataframe thead th {\n",
       "        text-align: right;\n",
       "    }\n",
       "</style>\n",
       "<table border=\"1\" class=\"dataframe\">\n",
       "  <thead>\n",
       "    <tr style=\"text-align: right;\">\n",
       "      <th></th>\n",
       "      <th>Index</th>\n",
       "      <th>trans_date_trans_time</th>\n",
       "      <th>cc_num</th>\n",
       "      <th>merchant</th>\n",
       "      <th>amt</th>\n",
       "      <th>first</th>\n",
       "      <th>last</th>\n",
       "      <th>street</th>\n",
       "      <th>city</th>\n",
       "      <th>state</th>\n",
       "      <th>...</th>\n",
       "      <th>category_personal_care</th>\n",
       "      <th>category_shopping_net</th>\n",
       "      <th>category_shopping_pos</th>\n",
       "      <th>category_travel</th>\n",
       "      <th>gender_M</th>\n",
       "      <th>age_category_Young Adults</th>\n",
       "      <th>age_category_Adults</th>\n",
       "      <th>age_category_Middle-aged</th>\n",
       "      <th>age_category_Seniors</th>\n",
       "      <th>age_category_Retired</th>\n",
       "    </tr>\n",
       "  </thead>\n",
       "  <tbody>\n",
       "    <tr>\n",
       "      <th>0</th>\n",
       "      <td>0</td>\n",
       "      <td>2019-01-01 00:00:00</td>\n",
       "      <td>2.703190e+15</td>\n",
       "      <td>fraud_Rippin, Kub and Mann</td>\n",
       "      <td>4.97</td>\n",
       "      <td>Jennifer</td>\n",
       "      <td>Banks</td>\n",
       "      <td>561 Perry Cove</td>\n",
       "      <td>Moravian Falls</td>\n",
       "      <td>NC</td>\n",
       "      <td>...</td>\n",
       "      <td>0</td>\n",
       "      <td>0</td>\n",
       "      <td>0</td>\n",
       "      <td>0</td>\n",
       "      <td>0</td>\n",
       "      <td>1</td>\n",
       "      <td>0</td>\n",
       "      <td>0</td>\n",
       "      <td>0</td>\n",
       "      <td>0</td>\n",
       "    </tr>\n",
       "    <tr>\n",
       "      <th>1</th>\n",
       "      <td>1</td>\n",
       "      <td>2019-01-01 00:00:00</td>\n",
       "      <td>6.304230e+11</td>\n",
       "      <td>fraud_Heller, Gutmann and Zieme</td>\n",
       "      <td>107.23</td>\n",
       "      <td>Stephanie</td>\n",
       "      <td>Gill</td>\n",
       "      <td>43039 Riley Greens Suite 393</td>\n",
       "      <td>Orient</td>\n",
       "      <td>WA</td>\n",
       "      <td>...</td>\n",
       "      <td>0</td>\n",
       "      <td>0</td>\n",
       "      <td>0</td>\n",
       "      <td>0</td>\n",
       "      <td>0</td>\n",
       "      <td>0</td>\n",
       "      <td>1</td>\n",
       "      <td>0</td>\n",
       "      <td>0</td>\n",
       "      <td>0</td>\n",
       "    </tr>\n",
       "    <tr>\n",
       "      <th>2</th>\n",
       "      <td>2</td>\n",
       "      <td>2019-01-01 00:00:00</td>\n",
       "      <td>3.885950e+13</td>\n",
       "      <td>fraud_Lind-Buckridge</td>\n",
       "      <td>220.11</td>\n",
       "      <td>Edward</td>\n",
       "      <td>Sanchez</td>\n",
       "      <td>594 White Dale Suite 530</td>\n",
       "      <td>Malad City</td>\n",
       "      <td>ID</td>\n",
       "      <td>...</td>\n",
       "      <td>0</td>\n",
       "      <td>0</td>\n",
       "      <td>0</td>\n",
       "      <td>0</td>\n",
       "      <td>1</td>\n",
       "      <td>0</td>\n",
       "      <td>0</td>\n",
       "      <td>0</td>\n",
       "      <td>1</td>\n",
       "      <td>0</td>\n",
       "    </tr>\n",
       "    <tr>\n",
       "      <th>3</th>\n",
       "      <td>3</td>\n",
       "      <td>2019-01-01 00:01:00</td>\n",
       "      <td>3.534090e+15</td>\n",
       "      <td>fraud_Kutch, Hermiston and Farrell</td>\n",
       "      <td>45.00</td>\n",
       "      <td>Jeremy</td>\n",
       "      <td>White</td>\n",
       "      <td>9443 Cynthia Court Apt. 038</td>\n",
       "      <td>Boulder</td>\n",
       "      <td>MT</td>\n",
       "      <td>...</td>\n",
       "      <td>0</td>\n",
       "      <td>0</td>\n",
       "      <td>0</td>\n",
       "      <td>0</td>\n",
       "      <td>1</td>\n",
       "      <td>0</td>\n",
       "      <td>0</td>\n",
       "      <td>0</td>\n",
       "      <td>1</td>\n",
       "      <td>0</td>\n",
       "    </tr>\n",
       "    <tr>\n",
       "      <th>4</th>\n",
       "      <td>4</td>\n",
       "      <td>2019-01-01 00:03:00</td>\n",
       "      <td>3.755340e+14</td>\n",
       "      <td>fraud_Keeling-Crist</td>\n",
       "      <td>41.96</td>\n",
       "      <td>Tyler</td>\n",
       "      <td>Garcia</td>\n",
       "      <td>408 Bradley Rest</td>\n",
       "      <td>Doe Hill</td>\n",
       "      <td>VA</td>\n",
       "      <td>...</td>\n",
       "      <td>0</td>\n",
       "      <td>0</td>\n",
       "      <td>0</td>\n",
       "      <td>0</td>\n",
       "      <td>1</td>\n",
       "      <td>0</td>\n",
       "      <td>1</td>\n",
       "      <td>0</td>\n",
       "      <td>0</td>\n",
       "      <td>0</td>\n",
       "    </tr>\n",
       "  </tbody>\n",
       "</table>\n",
       "<p>5 rows × 45 columns</p>\n",
       "</div>"
      ],
      "text/plain": [
       "   Index trans_date_trans_time        cc_num  \\\n",
       "0      0   2019-01-01 00:00:00  2.703190e+15   \n",
       "1      1   2019-01-01 00:00:00  6.304230e+11   \n",
       "2      2   2019-01-01 00:00:00  3.885950e+13   \n",
       "3      3   2019-01-01 00:01:00  3.534090e+15   \n",
       "4      4   2019-01-01 00:03:00  3.755340e+14   \n",
       "\n",
       "                             merchant     amt      first     last  \\\n",
       "0          fraud_Rippin, Kub and Mann    4.97   Jennifer    Banks   \n",
       "1     fraud_Heller, Gutmann and Zieme  107.23  Stephanie     Gill   \n",
       "2                fraud_Lind-Buckridge  220.11     Edward  Sanchez   \n",
       "3  fraud_Kutch, Hermiston and Farrell   45.00     Jeremy    White   \n",
       "4                 fraud_Keeling-Crist   41.96      Tyler   Garcia   \n",
       "\n",
       "                         street            city state  ...  \\\n",
       "0                561 Perry Cove  Moravian Falls    NC  ...   \n",
       "1  43039 Riley Greens Suite 393          Orient    WA  ...   \n",
       "2      594 White Dale Suite 530      Malad City    ID  ...   \n",
       "3   9443 Cynthia Court Apt. 038         Boulder    MT  ...   \n",
       "4              408 Bradley Rest        Doe Hill    VA  ...   \n",
       "\n",
       "   category_personal_care  category_shopping_net  category_shopping_pos  \\\n",
       "0                       0                      0                      0   \n",
       "1                       0                      0                      0   \n",
       "2                       0                      0                      0   \n",
       "3                       0                      0                      0   \n",
       "4                       0                      0                      0   \n",
       "\n",
       "   category_travel gender_M age_category_Young Adults age_category_Adults  \\\n",
       "0                0        0                         1                   0   \n",
       "1                0        0                         0                   1   \n",
       "2                0        1                         0                   0   \n",
       "3                0        1                         0                   0   \n",
       "4                0        1                         0                   1   \n",
       "\n",
       "   age_category_Middle-aged  age_category_Seniors  age_category_Retired  \n",
       "0                         0                     0                     0  \n",
       "1                         0                     0                     0  \n",
       "2                         0                     1                     0  \n",
       "3                         0                     1                     0  \n",
       "4                         0                     0                     0  \n",
       "\n",
       "[5 rows x 45 columns]"
      ]
     },
     "execution_count": 4,
     "metadata": {},
     "output_type": "execute_result"
    }
   ],
   "source": [
    "fraud_df.head()"
   ]
  },
  {
   "cell_type": "code",
   "execution_count": 5,
   "id": "8ed5156a",
   "metadata": {},
   "outputs": [
    {
     "name": "stderr",
     "output_type": "stream",
     "text": [
      "/tmp/ipykernel_8273/667325941.py:16: SettingWithCopyWarning: \n",
      "A value is trying to be set on a copy of a slice from a DataFrame.\n",
      "Try using .loc[row_indexer,col_indexer] = value instead\n",
      "\n",
      "See the caveats in the documentation: https://pandas.pydata.org/pandas-docs/stable/user_guide/indexing.html#returning-a-view-versus-a-copy\n",
      "  X[selected_features[:7]] = scaler.fit_transform(X[selected_features[:7]])\n"
     ]
    }
   ],
   "source": [
    "# Step 7: Select features dynamically\n",
    "available_columns = fraud_df.columns\n",
    "selected_features = [\n",
    "    'amt', 'city_pop', 'trans_hour', 'trans_day_of_week', 'age',\n",
    "    'distance_to_merchant', 'transactions_per_capita'\n",
    "]\n",
    "selected_features += [col for col in available_columns if col.startswith('category_')]\n",
    "selected_features += [col for col in available_columns if col.startswith('gender_')]\n",
    "selected_features += [col for col in available_columns if col.startswith('age_category_')]\n",
    "\n",
    "X = fraud_df[selected_features]\n",
    "y = fraud_df['is_fraud']\n",
    "\n",
    "# Step 8: Scale numerical features\n",
    "scaler = StandardScaler()\n",
    "X[selected_features[:7]] = scaler.fit_transform(X[selected_features[:7]])\n",
    "\n",
    "# Step 9: Apply SMOTE and K-Fold Cross-Validation\n",
    "smote = SMOTE(sampling_strategy=0.2, random_state=42, k_neighbors=5)\n",
    "kf = KFold(n_splits=5, shuffle=True, random_state=42)\n",
    "\n"
   ]
  },
  {
   "cell_type": "code",
   "execution_count": 7,
   "id": "2f626033",
   "metadata": {},
   "outputs": [
    {
     "data": {
      "text/plain": [
       "(1048575, 45)"
      ]
     },
     "execution_count": 7,
     "metadata": {},
     "output_type": "execute_result"
    }
   ],
   "source": [
    "fraud_df.shape"
   ]
  },
  {
   "cell_type": "code",
   "execution_count": 8,
   "id": "4045e24d",
   "metadata": {},
   "outputs": [
    {
     "name": "stderr",
     "output_type": "stream",
     "text": [
      "/home/ec2-user/anaconda3/envs/python3/lib/python3.10/site-packages/xgboost/core.py:158: UserWarning: [01:50:30] WARNING: /workspace/src/learner.cc:740: \n",
      "Parameters: { \"use_label_encoder\" } are not used.\n",
      "\n",
      "  warnings.warn(smsg, UserWarning)\n"
     ]
    },
    {
     "name": "stdout",
     "output_type": "stream",
     "text": [
      "Fold 1: AUC = 0.9961, F1 = 0.8626, Precision = 0.9253, Recall = 0.8078\n"
     ]
    },
    {
     "name": "stderr",
     "output_type": "stream",
     "text": [
      "/home/ec2-user/anaconda3/envs/python3/lib/python3.10/site-packages/xgboost/core.py:158: UserWarning: [01:50:41] WARNING: /workspace/src/learner.cc:740: \n",
      "Parameters: { \"use_label_encoder\" } are not used.\n",
      "\n",
      "  warnings.warn(smsg, UserWarning)\n"
     ]
    },
    {
     "name": "stdout",
     "output_type": "stream",
     "text": [
      "Fold 2: AUC = 0.9978, F1 = 0.8623, Precision = 0.9167, Recall = 0.8140\n"
     ]
    },
    {
     "name": "stderr",
     "output_type": "stream",
     "text": [
      "/home/ec2-user/anaconda3/envs/python3/lib/python3.10/site-packages/xgboost/core.py:158: UserWarning: [01:50:53] WARNING: /workspace/src/learner.cc:740: \n",
      "Parameters: { \"use_label_encoder\" } are not used.\n",
      "\n",
      "  warnings.warn(smsg, UserWarning)\n"
     ]
    },
    {
     "name": "stdout",
     "output_type": "stream",
     "text": [
      "Fold 3: AUC = 0.9978, F1 = 0.8549, Precision = 0.9200, Recall = 0.7983\n"
     ]
    },
    {
     "name": "stderr",
     "output_type": "stream",
     "text": [
      "/home/ec2-user/anaconda3/envs/python3/lib/python3.10/site-packages/xgboost/core.py:158: UserWarning: [01:51:05] WARNING: /workspace/src/learner.cc:740: \n",
      "Parameters: { \"use_label_encoder\" } are not used.\n",
      "\n",
      "  warnings.warn(smsg, UserWarning)\n"
     ]
    },
    {
     "name": "stdout",
     "output_type": "stream",
     "text": [
      "Fold 4: AUC = 0.9967, F1 = 0.8552, Precision = 0.9035, Recall = 0.8118\n"
     ]
    },
    {
     "name": "stderr",
     "output_type": "stream",
     "text": [
      "/home/ec2-user/anaconda3/envs/python3/lib/python3.10/site-packages/xgboost/core.py:158: UserWarning: [01:51:18] WARNING: /workspace/src/learner.cc:740: \n",
      "Parameters: { \"use_label_encoder\" } are not used.\n",
      "\n",
      "  warnings.warn(smsg, UserWarning)\n"
     ]
    },
    {
     "name": "stdout",
     "output_type": "stream",
     "text": [
      "Fold 5: AUC = 0.9976, F1 = 0.8664, Precision = 0.9173, Recall = 0.8209\n",
      "\n",
      "Final Metrics:\n",
      "Mean AUC: 0.9972 ± 0.0007\n",
      "Mean F1: 0.8603 ± 0.0045\n",
      "Mean Precision: 0.9166 ± 0.0072\n",
      "Mean Recall: 0.8105 ± 0.0074\n"
     ]
    },
    {
     "data": {
      "image/png": "[encoded data removed]",
      "text/plain": [
       "<Figure size 1200x300 with 4 Axes>"
      ]
     },
     "metadata": {},
     "output_type": "display_data"
    }
   ],
   "source": [
    "metrics = {'auc': [], 'f1': [], 'precision': [], 'recall': []}\n",
    "\n",
    "for fold, (train_idx, valid_idx) in enumerate(kf.split(X), 1):\n",
    "    X_train, X_valid = X.iloc[train_idx], X.iloc[valid_idx]\n",
    "    y_train, y_valid = y.iloc[train_idx], y.iloc[valid_idx]\n",
    "\n",
    "    X_res, y_res = smote.fit_resample(X_train, y_train)\n",
    "\n",
    "    class_ratio = (y_res == 0).sum() / (y_res == 1).sum()\n",
    "\n",
    "    model = XGBClassifier(\n",
    "        objective='binary:logistic',\n",
    "        n_estimators=300,\n",
    "        max_depth=5,\n",
    "        learning_rate=0.1,\n",
    "        subsample=0.8,\n",
    "        colsample_bytree=0.8,\n",
    "        reg_alpha=0.2,\n",
    "        reg_lambda=0.2,\n",
    "        scale_pos_weight=class_ratio,\n",
    "        random_state=42,\n",
    "        use_label_encoder=False,\n",
    "        eval_metric='logloss'\n",
    "    )\n",
    "\n",
    "    model.fit(X_res, y_res)\n",
    "\n",
    "    probas = model.predict_proba(X_valid)[:, 1]\n",
    "    precision, recall, thresholds = precision_recall_curve(y_valid, probas)\n",
    "    f1_scores = 2 * (precision * recall) / (precision + recall + 1e-9)\n",
    "    best_threshold = thresholds[np.argmax(f1_scores)]\n",
    "\n",
    "    preds = (probas >= best_threshold).astype(int)\n",
    "\n",
    "    metrics['auc'].append(roc_auc_score(y_valid, probas))\n",
    "    metrics['f1'].append(f1_score(y_valid, preds))\n",
    "    metrics['precision'].append(precision_score(y_valid, preds))\n",
    "    metrics['recall'].append(recall_score(y_valid, preds))\n",
    "\n",
    "    print(f\"Fold {fold}: AUC = {metrics['auc'][-1]:.4f}, F1 = {metrics['f1'][-1]:.4f}, \"\n",
    "          f\"Precision = {metrics['precision'][-1]:.4f}, Recall = {metrics['recall'][-1]:.4f}\")\n",
    "\n",
    "# Print final results\n",
    "print(\"\\nFinal Metrics:\")\n",
    "print(f\"Mean AUC: {np.mean(metrics['auc']):.4f} ± {np.std(metrics['auc']):.4f}\")\n",
    "print(f\"Mean F1: {np.mean(metrics['f1']):.4f} ± {np.std(metrics['f1']):.4f}\")\n",
    "print(f\"Mean Precision: {np.mean(metrics['precision']):.4f} ± {np.std(metrics['precision']):.4f}\")\n",
    "print(f\"Mean Recall: {np.mean(metrics['recall']):.4f} ± {np.std(metrics['recall']):.4f}\")\n",
    "\n",
    "# Step 10: Plot metrics\n",
    "plt.figure(figsize=(12, 3))\n",
    "for i, metric in enumerate(metrics.keys(), 1):\n",
    "    plt.subplot(1, 4, i)\n",
    "    plt.plot(metrics[metric], marker='o', linestyle='--')\n",
    "    plt.title(f'{metric.upper()} per Fold')\n",
    "    plt.xlabel('Fold Number')\n",
    "    plt.ylabel(metric.upper())\n",
    "plt.tight_layout()\n",
    "plt.show()"
   ]
  },
  {
   "cell_type": "code",
   "execution_count": 9,
   "id": "94700ccf",
   "metadata": {},
   "outputs": [
    {
     "name": "stdout",
     "output_type": "stream",
     "text": [
      "<class 'pandas.core.frame.DataFrame'>\n",
      "RangeIndex: 1048575 entries, 0 to 1048574\n",
      "Data columns (total 45 columns):\n",
      " #   Column                     Non-Null Count    Dtype         \n",
      "---  ------                     --------------    -----         \n",
      " 0   Index                      1048575 non-null  int64         \n",
      " 1   trans_date_trans_time      1048575 non-null  datetime64[ns]\n",
      " 2   cc_num                     1048575 non-null  float64       \n",
      " 3   merchant                   1048575 non-null  object        \n",
      " 4   amt                        1048575 non-null  float64       \n",
      " 5   first                      1048575 non-null  object        \n",
      " 6   last                       1048575 non-null  object        \n",
      " 7   street                     1048575 non-null  object        \n",
      " 8   city                       1048575 non-null  object        \n",
      " 9   state                      1048575 non-null  object        \n",
      " 10  zip                        1048575 non-null  int64         \n",
      " 11  lat                        1048575 non-null  float64       \n",
      " 12  long                       1048575 non-null  float64       \n",
      " 13  city_pop                   1048575 non-null  int64         \n",
      " 14  job                        1048575 non-null  object        \n",
      " 15  dob                        1048575 non-null  datetime64[ns]\n",
      " 16  trans_num                  1048575 non-null  object        \n",
      " 17  unix_time                  1048575 non-null  int64         \n",
      " 18  merch_lat                  1048575 non-null  float64       \n",
      " 19  merch_long                 1048575 non-null  float64       \n",
      " 20  is_fraud                   1048575 non-null  int64         \n",
      " 21  trans_hour                 1048575 non-null  int64         \n",
      " 22  trans_day_of_week          1048575 non-null  int64         \n",
      " 23  age                        1048575 non-null  int64         \n",
      " 24  distance_to_merchant       1048575 non-null  float64       \n",
      " 25  transactions_per_capita    1048575 non-null  float64       \n",
      " 26  category_food_dining       1048575 non-null  uint8         \n",
      " 27  category_gas_transport     1048575 non-null  uint8         \n",
      " 28  category_grocery_net       1048575 non-null  uint8         \n",
      " 29  category_grocery_pos       1048575 non-null  uint8         \n",
      " 30  category_health_fitness    1048575 non-null  uint8         \n",
      " 31  category_home              1048575 non-null  uint8         \n",
      " 32  category_kids_pets         1048575 non-null  uint8         \n",
      " 33  category_misc_net          1048575 non-null  uint8         \n",
      " 34  category_misc_pos          1048575 non-null  uint8         \n",
      " 35  category_personal_care     1048575 non-null  uint8         \n",
      " 36  category_shopping_net      1048575 non-null  uint8         \n",
      " 37  category_shopping_pos      1048575 non-null  uint8         \n",
      " 38  category_travel            1048575 non-null  uint8         \n",
      " 39  gender_M                   1048575 non-null  uint8         \n",
      " 40  age_category_Young Adults  1048575 non-null  uint8         \n",
      " 41  age_category_Adults        1048575 non-null  uint8         \n",
      " 42  age_category_Middle-aged   1048575 non-null  uint8         \n",
      " 43  age_category_Seniors       1048575 non-null  uint8         \n",
      " 44  age_category_Retired       1048575 non-null  uint8         \n",
      "dtypes: datetime64[ns](2), float64(8), int64(8), object(8), uint8(19)\n",
      "memory usage: 227.0+ MB\n"
     ]
    }
   ],
   "source": [
    "fraud_df.info()"
   ]
  },
  {
   "cell_type": "code",
   "execution_count": null,
   "id": "3fc98b4d",
   "metadata": {},
   "outputs": [],
   "source": []
  }
 ],
 "metadata": {
  "kernelspec": {
   "display_name": "conda_python3",
   "language": "python",
   "name": "conda_python3"
  },
  "language_info": {
   "codemirror_mode": {
    "name": "ipython",
    "version": 3
   },
   "file_extension": ".py",
   "mimetype": "text/x-python",
   "name": "python",
   "nbconvert_exporter": "python",
   "pygments_lexer": "ipython3",
   "version": "3.10.16"
  }
 },
 "nbformat": 4,
 "nbformat_minor": 5
}
